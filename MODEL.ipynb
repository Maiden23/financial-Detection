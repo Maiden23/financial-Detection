{
 "cells": [
  {
   "cell_type": "code",
   "execution_count": 1,
   "metadata": {},
   "outputs": [],
   "source": [
    "import pandas as pd\n",
    "import numpy as np\n",
    "import xgboost as xgb\n",
    "from sklearn.model_selection import train_test_split\n",
    "from sklearn.preprocessing import LabelEncoder"
   ]
  },
  {
   "cell_type": "markdown",
   "metadata": {},
   "source": [
    "CLEANING, PREPARING AND TRAINING THE DATA"
   ]
  },
  {
   "cell_type": "code",
   "execution_count": 2,
   "metadata": {},
   "outputs": [
    {
     "name": "stderr",
     "output_type": "stream",
     "text": [
      "c:\\Users\\angel\\anaconda3\\Lib\\site-packages\\xgboost\\core.py:158: UserWarning: [15:19:22] WARNING: C:\\buildkite-agent\\builds\\buildkite-windows-cpu-autoscaling-group-i-0015a694724fa8361-1\\xgboost\\xgboost-ci-windows\\src\\learner.cc:740: \n",
      "Parameters: { \"use_label_encoder\" } are not used.\n",
      "\n",
      "  warnings.warn(smsg, UserWarning)\n"
     ]
    }
   ],
   "source": [
    "\n",
    "data = pd.read_csv('Financial.csv')\n",
    "from sklearn.utils import resample\n",
    "data = data.drop(['nameOrig', 'nameDest','step', 'isFlaggedFraud'], axis=1)\n",
    "#USing Label Encoder for Type values for better predicition\n",
    "label_encoder = LabelEncoder()\n",
    "data['type'] = label_encoder.fit_transform(data['type'])\n",
    "#Distinguising between 0 and 1\n",
    "df_majority = data[data.isFraud == 0]\n",
    "df_minority = data[data.isFraud == 1]\n",
    "#UPSampling Data\n",
    "df_minority_upsampled = resample(df_minority, replace=True, n_samples=len(df_majority),random_state=42)\n",
    "df_up = pd.concat([df_majority, df_minority_upsampled])\n",
    "#Features(X) and target Value(y)\n",
    "X = df_up.drop('isFraud', axis=1)\n",
    "y = df_up['isFraud']\n",
    "#Splitting DataSet\n",
    "X_train, X_test, y_train, y_test = train_test_split(X, y, test_size=0.3, random_state=42)\n",
    "#Using Model XGB\n",
    "xgb_model = xgb.XGBClassifier(use_label_encoder=False, eval_metric='logloss')\n",
    "#Predicting Values\n",
    "xgb_model.fit(X_train, y_train)\n",
    "y_pred = xgb_model.predict(X_test)"
   ]
  },
  {
   "cell_type": "markdown",
   "metadata": {},
   "source": [
    "ACCURACY OF THE MODEL"
   ]
  },
  {
   "cell_type": "code",
   "execution_count": 3,
   "metadata": {},
   "outputs": [
    {
     "name": "stdout",
     "output_type": "stream",
     "text": [
      "Model Accuracy: 99.95%\n",
      "Accuracy: 0.9994944194013521\n",
      "[[246365    250]\n",
      " [     0 247866]]\n",
      "              precision    recall  f1-score   support\n",
      "\n",
      "         0.0       1.00      1.00      1.00    246615\n",
      "         1.0       1.00      1.00      1.00    247866\n",
      "\n",
      "    accuracy                           1.00    494481\n",
      "   macro avg       1.00      1.00      1.00    494481\n",
      "weighted avg       1.00      1.00      1.00    494481\n",
      "\n"
     ]
    }
   ],
   "source": [
    "\n",
    "from sklearn.metrics import classification_report, confusion_matrix, accuracy_score\n",
    "accuracy = accuracy_score(y_test, y_pred)\n",
    "print(f\"Model Accuracy: {accuracy * 100:.2f}%\")\n",
    "print(\"Accuracy:\", accuracy_score(y_test, y_pred))\n",
    "print(confusion_matrix(y_test, y_pred))\n",
    "print(classification_report(y_test, y_pred))"
   ]
  },
  {
   "cell_type": "code",
   "execution_count": 4,
   "metadata": {},
   "outputs": [],
   "source": [
    "#xgb_model.save_model('xgb_fraud_detection_model.json')"
   ]
  },
  {
   "cell_type": "code",
   "execution_count": 5,
   "metadata": {},
   "outputs": [
    {
     "name": "stdout",
     "output_type": "stream",
     "text": [
      "Category to Integer Mapping for 'type' column:\n",
      "{'CASH_IN': 0, 'CASH_OUT': 1, 'DEBIT': 2, 'PAYMENT': 3, 'TRANSFER': 4, nan: 5}\n"
     ]
    }
   ],
   "source": [
    "category_mapping = dict(zip(label_encoder.classes_, label_encoder.transform(label_encoder.classes_)))\n",
    "\n",
    "print(\"Category to Integer Mapping for 'type' column:\")\n",
    "print(category_mapping)"
   ]
  },
  {
   "cell_type": "code",
   "execution_count": 6,
   "metadata": {},
   "outputs": [
    {
     "name": "stdout",
     "output_type": "stream",
     "text": [
      "Fraud account dataset created and saved to fraud_accounts.csv.\n"
     ]
    }
   ],
   "source": [
    "\n",
    "data = pd.read_csv('Financial.csv')\n",
    "\n",
    "\n",
    "fraud_data = data[data['isFraud'] == 1]\n",
    "\n",
    "fraud_accounts = fraud_data[['nameDest', 'oldbalanceDest','newbalanceDest']]\n",
    "\n",
    "fraud_accounts.columns = ['account_number', 'old_balance','new_balance']\n",
    "\n",
    "fraud_account_data_path = 'fraud_accounts.csv'\n",
    "fraud_accounts.to_csv(fraud_account_data_path, index=False)\n",
    "\n",
    "print(f\"Fraud account dataset created and saved to {fraud_account_data_path}.\")\n",
    "\n"
   ]
  },
  {
   "cell_type": "code",
   "execution_count": 7,
   "metadata": {},
   "outputs": [],
   "source": [
    "def predict_transaction(account_number, input_features):\n",
    "    fraud_accounts = pd.read_csv('fraud_accounts.csv')\n",
    "    \n",
    "    if account_number in fraud_accounts['account_number'].values:\n",
    "        print(\"This account is already flagged as fraud.\")\n",
    "        return True\n",
    "    \n",
    "    possibility_of_fraud = xgb_model.predict(np.array(input_features).reshape(1, -1))[0]\n",
    "    bank = pd.read_csv('Financial.csv')\n",
    "    \n",
    "    if possibility_of_fraud == 1:\n",
    "        account_info = bank[bank['nameDest'] == account_number]\n",
    "        balance = account_info['oldbalanceDest'].values[0]\n",
    "        \n",
    "        ans = input(f\"This account seems to have a possibility of being fraud, would you like to flag this account {account_number} as fraud? Yes/No: \")\n",
    "        \n",
    "        new_entry = pd.DataFrame([[account_number, balance]], columns=['account_number', 'balance'])\n",
    "        if ans.lower() == \"yes\":\n",
    "            fraud_accounts = fraud_accounts.append(new_entry, ignore_index=True)  \n",
    "            fraud_accounts.to_csv('fraud_accounts.csv', index=False)\n",
    "            print(f\"Account {account_number} has been flagged as fraud.\")\n",
    "            return True\n",
    "        else:\n",
    "            return True\n",
    "    else:\n",
    "        print(f\"Transaction seems normal for account {account_number}.\")\n",
    "        return False\n"
   ]
  },
  {
   "cell_type": "code",
   "execution_count": 9,
   "metadata": {},
   "outputs": [
    {
     "name": "stdout",
     "output_type": "stream",
     "text": [
      "Invalid account number(s). Please check the sender or receiver account numbers.\n"
     ]
    }
   ],
   "source": [
    "\n",
    "bank = pd.read_csv('Financial.csv')\n",
    "\n",
    "\n",
    "account_number = input(\"Enter sender's account number: \")\n",
    "reciever_acc_number = input(\"Enter receiver's account number: \")\n",
    "amount = float(input(\"Enter the amount to pay: \"))\n",
    "Type = int(input(\"Enter type of transaction 'CASH_IN': 0, 'CASH_OUT': 1, 'DEBIT': 2, 'PAYMENT': 3, 'TRANSFER': 4: \"))\n",
    "\n",
    "account_info_sender = bank[bank['nameOrig'] == account_number]\n",
    "account_info_reciever = bank[bank['nameDest'] == reciever_acc_number]\n",
    "\n",
    "if not account_info_sender.empty and not account_info_reciever.empty:\n",
    "    oldbalanceOrg = account_info_sender['oldbalanceOrg'].values[0]\n",
    "    newbalanceOrig = account_info_sender['newbalanceOrig'].values[0]\n",
    "    oldbalanceDest = account_info_reciever['oldbalanceDest'].values[0]\n",
    "    newbalanceDest = account_info_reciever['newbalanceDest'].values[0]\n",
    "    \n",
    "    input_features = [Type, amount, oldbalanceOrg, newbalanceOrig, oldbalanceDest, newbalanceDest]\n",
    "    \n",
    "    print(\"Input Features: \", input_features)\n",
    "    print(\"Data types: \", [type(f) for f in input_features])\n",
    "\n",
    "    is_fraud = predict_transaction(reciever_acc_number, input_features)\n",
    "    \n",
    "    print(f\"Fraudulent Transaction Prediction: {is_fraud}\")\n",
    "else:\n",
    "    print(\"Invalid account number(s). Please check the sender or receiver account numbers.\")\n"
   ]
  }
 ],
 "metadata": {
  "kernelspec": {
   "display_name": "base",
   "language": "python",
   "name": "python3"
  },
  "language_info": {
   "codemirror_mode": {
    "name": "ipython",
    "version": 3
   },
   "file_extension": ".py",
   "mimetype": "text/x-python",
   "name": "python",
   "nbconvert_exporter": "python",
   "pygments_lexer": "ipython3",
   "version": "3.11.7"
  }
 },
 "nbformat": 4,
 "nbformat_minor": 2
}
